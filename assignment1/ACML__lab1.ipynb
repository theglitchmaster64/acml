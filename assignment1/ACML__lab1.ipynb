{
  "nbformat": 4,
  "nbformat_minor": 0,
  "metadata": {
    "colab": {
      "name": "ACML _lab1",
      "provenance": [],
      "collapsed_sections": [],
      "toc_visible": true
    },
    "kernelspec": {
      "name": "python3",
      "display_name": "Python 3"
    },
    "language_info": {
      "name": "python"
    }
  },
  "cells": [
    {
      "cell_type": "markdown",
      "metadata": {
        "id": "SP80aMZTbz1v"
      },
      "source": [
        "### Initialize a neural network\n",
        "* function `initiate_NN` randomly generate weights and biases for every neurons in every layers\n",
        "* weights range [0, 1)\n",
        "* bias range [0, 1)"
      ]
    },
    {
      "cell_type": "code",
      "metadata": {
        "id": "NvP3AS9wb9Hi"
      },
      "source": [
        "import numpy as np\n",
        "# Initialize a neural network, output is a network of weights and biases\n",
        "def initiate_NN(n_inputs, n_neurons, n_outputs):\n",
        "    Nnetwork = []\n",
        "    hidden_layer = [{'weights':np.random.random(n_inputs), 'bias':np.random.random()} for i in range(n_neurons)]\n",
        "    output_layer = [{'weights':np.random.random(n_neurons), 'bias':np.random.random()} for i in range(n_outputs)]\n",
        "    Nnetwork.append(hidden_layer)\n",
        "    Nnetwork.append(output_layer)\n",
        "    return Nnetwork"
      ],
      "execution_count": 6,
      "outputs": []
    },
    {
      "cell_type": "code",
      "metadata": {
        "colab": {
          "base_uri": "https://localhost:8080/"
        },
        "id": "TVHEj9CoeQDJ",
        "outputId": "f0ec404d-1cd1-4c0f-ee5a-92eb6ad20cc6"
      },
      "source": [
        "#test: initiate a neural network of input_size = 8, hidden_layer_size = 3, output_size = 8\n",
        "Nnetwork = initiate_NN(8, 3, 8)\n",
        "for layer in Nnetwork:\n",
        "  print(layer)\n",
        "  print('number of neurons', len(layer), '\\n')"
      ],
      "execution_count": 9,
      "outputs": [
        {
          "output_type": "stream",
          "name": "stdout",
          "text": [
            "[{'weights': array([0.80426023, 0.21891077, 0.15431621, 0.3077206 , 0.85869644,\n",
            "       0.9733493 , 0.46128918, 0.76144003]), 'bias': 0.24356001705452524}, {'weights': array([0.35861418, 0.20480762, 0.29601315, 0.5435984 , 0.21400622,\n",
            "       0.16786255, 0.36640134, 0.17290308]), 'bias': 0.5921735930594143}, {'weights': array([0.98999603, 0.74527302, 0.61044989, 0.65014764, 0.56672679,\n",
            "       0.55311118, 0.57432667, 0.12814547]), 'bias': 0.669914777886722}]\n",
            "number of neurons 3 \n",
            "\n",
            "[{'weights': array([0.96262162, 0.40827858, 0.2239914 ]), 'bias': 0.3569448582631478}, {'weights': array([0.85999464, 0.92560527, 0.65647128]), 'bias': 0.8987741138188432}, {'weights': array([0.39037245, 0.08244243, 0.18199065]), 'bias': 0.3907877971844008}, {'weights': array([0.94603018, 0.88160621, 0.52190715]), 'bias': 0.640512246513775}, {'weights': array([0.3480655 , 0.51680571, 0.25476347]), 'bias': 0.28979118903135836}, {'weights': array([0.40935404, 0.60961374, 0.45066169]), 'bias': 0.34750453439393714}, {'weights': array([0.85144377, 0.2977891 , 0.0225906 ]), 'bias': 0.6080606731155896}, {'weights': array([0.30382654, 0.57988146, 0.85030185]), 'bias': 0.06594072336177914}]\n",
            "number of neurons 8 \n",
            "\n"
          ]
        }
      ]
    },
    {
      "cell_type": "markdown",
      "metadata": {
        "id": "cpE-3ch4exch"
      },
      "source": [
        "Results above shows, \n",
        "* first layer(aks hidden layer) has 3 neurons, each neuron has 8 weights(because input layer has 8 neurons), and 1 bias value\n",
        "\n",
        "* output layer has 8 neurons,  each neuron has 3 weights(because hidden layer has 3 neurons), , and 1 bias value"
      ]
    },
    {
      "cell_type": "markdown",
      "metadata": {
        "id": "FMZIWK0Xf42g"
      },
      "source": [
        "### Calculate neuron activation and transfer"
      ]
    },
    {
      "cell_type": "code",
      "metadata": {
        "id": "vqE6C9LKWnla"
      },
      "source": [
        "# Calculate neuron activation\n",
        "def activate(inputs, weights, bias):\n",
        "    activated = np.dot(inputs, weights) + bias \n",
        "    return activated.item()  # return a scalar value\n",
        "\n",
        "# Transfer neuron activation using Sigmoid equation\n",
        "from math import exp\n",
        "def transfer(activated):\n",
        "    return 1.0 / (1.0 + exp(-activated))"
      ],
      "execution_count": 10,
      "outputs": []
    },
    {
      "cell_type": "code",
      "metadata": {
        "colab": {
          "base_uri": "https://localhost:8080/"
        },
        "id": "N3-Fyf8Hf4Tx",
        "outputId": "0f71a4a4-bfac-431d-afba-e6eab28ef976"
      },
      "source": [
        "# test: neuron activation and transfer function\n",
        "inputs = [1, 0, 0, 0, 0, 0, 0, 0] \n",
        "weights = [0.5, 1, 1, 0, 0, 1, 1, 0]\n",
        "bias = [0.8]\n",
        "\n",
        "act1 = activate(inputs, weights, bias)\n",
        "print(act1)\n",
        "trans1 = transfer(act1)\n",
        "print(trans1)"
      ],
      "execution_count": 11,
      "outputs": [
        {
          "output_type": "stream",
          "name": "stdout",
          "text": [
            "1.3\n",
            "0.7858349830425586\n"
          ]
        }
      ]
    },
    {
      "cell_type": "markdown",
      "metadata": {
        "id": "ImISTIxmgOni"
      },
      "source": [
        "### Forward propagation"
      ]
    },
    {
      "cell_type": "code",
      "metadata": {
        "id": "gn1Hzdw7gVD0"
      },
      "source": [
        "# Forward propagation to calculate the output\n",
        "def forward(Nnetwork, input_row):\n",
        "    inputs = input_row\n",
        "    for layer in Nnetwork:\n",
        "        outputs = []\n",
        "        # Calculate each neuron's activation in this layer\n",
        "        for neuron in layer:\n",
        "            activation = activate(inputs, neuron['weights'], neuron['bias'])\n",
        "            neuron['output'] = transfer(activation)            \n",
        "            outputs.append(neuron['output'])    \n",
        "        inputs = outputs # The output of the hidden layer is the input of the output layer\n",
        "    return outputs"
      ],
      "execution_count": 13,
      "outputs": []
    },
    {
      "cell_type": "code",
      "metadata": {
        "colab": {
          "base_uri": "https://localhost:8080/"
        },
        "id": "SWKsvLwOgjuE",
        "outputId": "b6f77db4-347e-4b6e-b9ad-8c0d53fb4763"
      },
      "source": [
        "# test forward propagation\n",
        "Nnetwork = initiate_NN(8, 3, 8)\n",
        "input_row = [1, 0, 0, 0, 0, 0, 0, 0]\n",
        "output = forward(Nnetwork, input_row)\n",
        "print(output)\n",
        "print(type(output))"
      ],
      "execution_count": 14,
      "outputs": [
        {
          "output_type": "stream",
          "name": "stdout",
          "text": [
            "[0.635801560064509, 0.8618646517741291, 0.8925843915815326, 0.844466449798608, 0.7014826269856719, 0.6700013704407318, 0.8387260447617192, 0.7913040339091448]\n",
            "<class 'list'>\n"
          ]
        }
      ]
    },
    {
      "cell_type": "markdown",
      "metadata": {
        "id": "sMJm_txggTNK"
      },
      "source": [
        "### Back propagation\n",
        "* from the last layer, reversely calculate errors, delta for each neuron"
      ]
    },
    {
      "cell_type": "code",
      "metadata": {
        "id": "rkb7nF0YgwTw"
      },
      "source": [
        "# Calculate gradient descent\n",
        "def gradient(output):\n",
        "    return output * (1.0 - output)\n",
        "\n",
        "# Back-propagate to calculate errors for each neuron\n",
        "def backward(Nnetwork, Y):\n",
        "    # In reverse order, calculate each \n",
        "    for l in range(len(Nnetwork), 0, -1): \n",
        "        layer = Nnetwork[l-1]\n",
        "        errors = []            \n",
        "        if l == len(Nnetwork):\n",
        "            # Calculate errors of the last layer using true_value Y and the output value calculated from forward propagation\n",
        "            for j in range(len(layer)):\n",
        "                neuron = layer[j]\n",
        "                errors.append(neuron['output'] - Y[j])   \n",
        "        else:\n",
        "            for j in range(len(layer)):\n",
        "                error = 0.0\n",
        "                for neuron in Nnetwork[l]:\n",
        "                    error = error + (neuron['weights'][j] * neuron['delta'])\n",
        "                errors.append(error)             \n",
        "        # Calculate delta \n",
        "        for j in range(len(layer)):\n",
        "            neuron = layer[j]\n",
        "            neuron['delta'] = errors[j] * gradient(neuron['output'])"
      ],
      "execution_count": 15,
      "outputs": []
    },
    {
      "cell_type": "code",
      "metadata": {
        "colab": {
          "base_uri": "https://localhost:8080/"
        },
        "id": "JPThG6lPg_LJ",
        "outputId": "34393e2a-b4a4-4074-baf6-1a7be405b23b"
      },
      "source": [
        "#test back propagation\n",
        "Y = inputs\n",
        "backward(Nnetwork, Y)\n",
        "\n",
        "for layer in Nnetwork:\n",
        "    print(\"This is layer = \", Nnetwork.index(layer))\n",
        "    for neuron in layer:\n",
        "        print(neuron)"
      ],
      "execution_count": 16,
      "outputs": [
        {
          "output_type": "stream",
          "name": "stdout",
          "text": [
            "This is layer =  0\n",
            "{'weights': array([0.14384274, 0.12878275, 0.80584928, 0.69732348, 0.88308062,\n",
            "       0.65682526, 0.23758618, 0.11343477]), 'bias': 0.12236329388853007, 'output': 0.5661612559039465, 'delta': 0.07171005204620717}\n",
            "{'weights': array([0.38000067, 0.71349092, 0.80736364, 0.92120311, 0.04074708,\n",
            "       0.30606061, 0.25227374, 0.98360954]), 'bias': 0.32386296848509344, 'output': 0.6690438324979163, 'delta': 0.10765631603500894}\n",
            "{'weights': array([0.27840316, 0.48136639, 0.62401003, 0.72232688, 0.37860356,\n",
            "       0.51419296, 0.28760383, 0.66720034]), 'bias': 0.21580128800723009, 'output': 0.6210963912601727, 'delta': 0.09997856200681611}\n",
            "This is layer =  1\n",
            "{'weights': array([0.05873376, 0.64609207, 0.05972688]), 'bias': 0.05457477686050283, 'output': 0.635801560064509, 'delta': -0.0843330391493312}\n",
            "{'weights': array([0.66266689, 0.78616185, 0.76064426]), 'bias': 0.4572777875427364, 'output': 0.8618646517741291, 'delta': 0.10260841166835048}\n",
            "{'weights': array([0.98836434, 0.65297104, 0.78262396]), 'bias': 0.6348908012646898, 'output': 0.8925843915815326, 'delta': 0.08557875597523042}\n",
            "{'weights': array([0.12585015, 0.90519146, 0.70416375]), 'bias': 0.5776257292352995, 'output': 0.844466449798608, 'delta': 0.11091464288180343}\n",
            "{'weights': array([0.21720944, 0.23579157, 0.555529  ]), 'bias': 0.22860048184936554, 'output': 0.7014826269856719, 'delta': 0.14689379485086135}\n",
            "{'weights': array([0.09213582, 0.72885356, 0.12873973]), 'bias': 0.08843276164719549, 'output': 0.6700013704407318, 'delta': 0.1481369908161502}\n",
            "{'weights': array([0.65975223, 0.41459033, 0.57500216]), 'bias': 0.6407426053055241, 'output': 0.8387260447617192, 'delta': 0.11344999881349922}\n",
            "{'weights': array([0.07624971, 0.87312918, 0.31248987]), 'bias': 0.5113861170550703, 'output': 0.7913040339091448, 'delta': 0.1306774989797639}\n"
          ]
        }
      ]
    },
    {
      "cell_type": "markdown",
      "metadata": {
        "id": "JRxC85RohFF9"
      },
      "source": [
        "### Rectify/update weights\n",
        "* using delta and user-specified learning rate \n"
      ]
    },
    {
      "cell_type": "code",
      "metadata": {
        "id": "Qk1y60kOhM6L"
      },
      "source": [
        "# Rectify weights with error and delta\n",
        "def rec_weights(Nnetwork, input_row, learn_rate):\n",
        "    for l in range(len(Nnetwork)): # in our case, l = 0, 1\n",
        "        inputs = input_row\n",
        "        if l != 0:\n",
        "            inputs = [neuron['output'] for neuron in Nnetwork[l - 1]]\n",
        "        for neuron in Nnetwork[l]:\n",
        "            for j in range(len(inputs)):\n",
        "                neuron['weights'][j] = neuron['weights'][j] - learn_rate * neuron['delta'] * inputs[j]\n",
        "            neuron['bias'] = neuron['bias'] - learn_rate * neuron['delta']     "
      ],
      "execution_count": 22,
      "outputs": []
    },
    {
      "cell_type": "markdown",
      "metadata": {
        "id": "ykH89JGMiWRW"
      },
      "source": [
        "### Train a network for n times iterations\n",
        "* choose of cost function: least squares,   \n",
        "   $ 1/2 *[(h_\\theta (x) - y]^2$"
      ]
    },
    {
      "cell_type": "code",
      "metadata": {
        "id": "46HlME0PhO-M"
      },
      "source": [
        "# Train a network for n iterations\n",
        "def train_NN(Nnetwork, data_train, learn_rate, n_iterations, n_outputs):\n",
        "    for n in range(n_iterations):\n",
        "        sum_errors = 0.0\n",
        "        for input_row in data_train:\n",
        "            outputs = forward(Nnetwork, input_row)\n",
        "            Y = input_row #input = output\n",
        "            sum_errors = sum_errors + sum( 0.5* (outputs[i] - Y[i])**2 for i in range(len(Y)))            \n",
        "            backward(Nnetwork, Y)          \n",
        "            rec_weights(Nnetwork, input_row, learn_rate)\n",
        "        print('n_iterations=%d, sum_errors=%.3f' % (n, sum_errors))"
      ],
      "execution_count": 26,
      "outputs": []
    },
    {
      "cell_type": "code",
      "metadata": {
        "colab": {
          "base_uri": "https://localhost:8080/"
        },
        "id": "ozl_OfzHiVuE",
        "outputId": "fea97a54-e995-43e1-a0e4-aa239d2faf15"
      },
      "source": [
        "# generate an identity matrix for testing\n",
        "X = np.identity(8)\n",
        "X"
      ],
      "execution_count": 27,
      "outputs": [
        {
          "output_type": "execute_result",
          "data": {
            "text/plain": [
              "array([[1., 0., 0., 0., 0., 0., 0., 0.],\n",
              "       [0., 1., 0., 0., 0., 0., 0., 0.],\n",
              "       [0., 0., 1., 0., 0., 0., 0., 0.],\n",
              "       [0., 0., 0., 1., 0., 0., 0., 0.],\n",
              "       [0., 0., 0., 0., 1., 0., 0., 0.],\n",
              "       [0., 0., 0., 0., 0., 1., 0., 0.],\n",
              "       [0., 0., 0., 0., 0., 0., 1., 0.],\n",
              "       [0., 0., 0., 0., 0., 0., 0., 1.]])"
            ]
          },
          "metadata": {},
          "execution_count": 27
        }
      ]
    },
    {
      "cell_type": "code",
      "metadata": {
        "colab": {
          "base_uri": "https://localhost:8080/"
        },
        "id": "8er7Nv_3ipTk",
        "outputId": "9f70c251-6dd5-4207-aea9-77d5a46a50cf"
      },
      "source": [
        "# test train_NN function \n",
        "Nnetwork = initiate_NN(8, 3, 8)\n",
        "\n",
        "# set learning_rate = .5, number of interation =10\n",
        "train_NN(Nnetwork, X, 0.5, 10, 8)   "
      ],
      "execution_count": 28,
      "outputs": [
        {
          "output_type": "stream",
          "name": "stdout",
          "text": [
            "n_iterations=0, sum_errors=16.161\n",
            "n_iterations=1, sum_errors=8.748\n",
            "n_iterations=2, sum_errors=5.362\n",
            "n_iterations=3, sum_errors=4.330\n",
            "n_iterations=4, sum_errors=3.951\n",
            "n_iterations=5, sum_errors=3.780\n",
            "n_iterations=6, sum_errors=3.690\n",
            "n_iterations=7, sum_errors=3.638\n",
            "n_iterations=8, sum_errors=3.606\n",
            "n_iterations=9, sum_errors=3.585\n"
          ]
        }
      ]
    },
    {
      "cell_type": "markdown",
      "metadata": {
        "id": "hd5TgR-cjKYn"
      },
      "source": [
        "Above results show that sum_of_errors is reducing"
      ]
    },
    {
      "cell_type": "markdown",
      "metadata": {
        "id": "sneJ_yXXkGqR"
      },
      "source": [
        "### Predict output using trained NN"
      ]
    },
    {
      "cell_type": "code",
      "metadata": {
        "id": "tnRVl8nWkF_1"
      },
      "source": [
        "# predict output using a trained network\n",
        "def prediction(Nnetwork_trained, input_row):\n",
        "    predict = forward(Nnetwork_trained, input_row)\n",
        "    prediction = [0 for i in range(len(input_row))]\n",
        "    prediction[predict.index(max(predict))] = 1            \n",
        "    return prediction"
      ],
      "execution_count": 30,
      "outputs": []
    },
    {
      "cell_type": "code",
      "metadata": {
        "colab": {
          "base_uri": "https://localhost:8080/"
        },
        "id": "fxXR1rsSeN5K",
        "outputId": "95f92f25-fbe7-484e-b139-51cc17f9c2e8"
      },
      "source": [
        "# test the pipeline\n",
        "\n",
        "X = np.identity(8)\n",
        "\n",
        "# generate a dataset, by randomly choose 1 row from identity matrix of size 8  \n",
        "dataset = []\n",
        "for i in range(100):\n",
        "    row = np.random.choice(range(8))\n",
        "    dataset.append(X.tolist()[row])\n",
        "\n",
        "# initiate a neural network and train it \n",
        "Nnetwork = initiate_NN(8, 3, 8)\n",
        "train_NN(Nnetwork, dataset, 0.5, 20, 8) # learning rate = 0.5, n_iterations= 20\n",
        "\n",
        "#calculate the accuracy\n",
        "def accuracy(Nnetwork, dataset):\n",
        "  hits = 0  \n",
        "  for r in dataset:\n",
        "    predict_value = prediction(Nnetwork, r)\n",
        "    #print('True Value =', r, 'Prediction=', predict_value)\n",
        "    if predict_value == r:\n",
        "        hits += 1\n",
        "  return hits / (len(dataset))\n",
        "\n",
        "print('accuracy:%.3f' % accuracy(Nnetwork, dataset))"
      ],
      "execution_count": 47,
      "outputs": [
        {
          "output_type": "stream",
          "name": "stdout",
          "text": [
            "n_iterations=0, sum_errors=62.673\n",
            "n_iterations=1, sum_errors=43.784\n",
            "n_iterations=2, sum_errors=43.597\n",
            "n_iterations=3, sum_errors=43.375\n",
            "n_iterations=4, sum_errors=43.031\n",
            "n_iterations=5, sum_errors=42.444\n",
            "n_iterations=6, sum_errors=41.405\n",
            "n_iterations=7, sum_errors=39.703\n",
            "n_iterations=8, sum_errors=37.407\n",
            "n_iterations=9, sum_errors=34.983\n",
            "n_iterations=10, sum_errors=32.937\n",
            "n_iterations=11, sum_errors=31.374\n",
            "n_iterations=12, sum_errors=30.130\n",
            "n_iterations=13, sum_errors=29.028\n",
            "n_iterations=14, sum_errors=27.954\n",
            "n_iterations=15, sum_errors=26.850\n",
            "n_iterations=16, sum_errors=25.700\n",
            "n_iterations=17, sum_errors=24.513\n",
            "n_iterations=18, sum_errors=23.308\n",
            "n_iterations=19, sum_errors=22.097\n",
            "accuracy:0.820\n"
          ]
        }
      ]
    },
    {
      "cell_type": "markdown",
      "metadata": {
        "id": "Jd3n6mk2nLzN"
      },
      "source": [
        "---\n"
      ]
    },
    {
      "cell_type": "markdown",
      "metadata": {
        "id": "Jf_dYuKdnM5q"
      },
      "source": [
        "### Test different learning rate "
      ]
    },
    {
      "cell_type": "markdown",
      "metadata": {
        "id": "fOxCCNrxoPih"
      },
      "source": [
        "##### learning rate = 0.8"
      ]
    },
    {
      "cell_type": "code",
      "metadata": {
        "colab": {
          "base_uri": "https://localhost:8080/"
        },
        "id": "jbH_e04gnMib",
        "outputId": "fc8c28d5-76eb-4063-d042-a46b687bd1c4"
      },
      "source": [
        "X = np.identity(8)\n",
        "# generate a dataset, by randomly choose 1 row from identity matrix of size 8  \n",
        "dataset = []\n",
        "for i in range(100):\n",
        "    row = np.random.choice(range(8))\n",
        "    dataset.append(X.tolist()[row])\n",
        "\n",
        "# initiate a neural network and train it \n",
        "np.random.seed(1)\n",
        "Nnetwork = initiate_NN(8, 3, 8)\n",
        "train_NN(Nnetwork, dataset, 0.8, 10, 8) # learning rate = 0.8, n_iterations= 10\n",
        "\n",
        "#make predictions and calculate the accuracy\n",
        "print('accuracy %.3f' % accuracy(Nnetwork, dataset))"
      ],
      "execution_count": 65,
      "outputs": [
        {
          "output_type": "stream",
          "name": "stdout",
          "text": [
            "n_iterations=0, sum_errors=57.154\n",
            "n_iterations=1, sum_errors=43.944\n",
            "n_iterations=2, sum_errors=43.616\n",
            "n_iterations=3, sum_errors=43.103\n",
            "n_iterations=4, sum_errors=42.162\n",
            "n_iterations=5, sum_errors=40.449\n",
            "n_iterations=6, sum_errors=37.855\n",
            "n_iterations=7, sum_errors=34.834\n",
            "n_iterations=8, sum_errors=31.800\n",
            "n_iterations=9, sum_errors=28.920\n",
            "accuracy 0.560\n"
          ]
        }
      ]
    },
    {
      "cell_type": "markdown",
      "metadata": {
        "id": "lcgui9eYoO3E"
      },
      "source": [
        "##### learning rate = 0.5"
      ]
    },
    {
      "cell_type": "code",
      "metadata": {
        "colab": {
          "base_uri": "https://localhost:8080/"
        },
        "id": "vWHi9gPLougl",
        "outputId": "62fd5c1d-1af2-4752-8c19-7338622055c4"
      },
      "source": [
        "X = np.identity(8)\n",
        "# generate a dataset, by randomly choose 1 row from identity matrix of size 8  \n",
        "dataset = []\n",
        "for i in range(100):\n",
        "    row = np.random.choice(range(8))\n",
        "    dataset.append(X.tolist()[row])\n",
        "\n",
        "# initiate a neural network and train it \n",
        "np.random.seed(1)\n",
        "Nnetwork = initiate_NN(8, 3, 8)\n",
        "train_NN(Nnetwork, dataset, 0.5, 10, 8) # learning rate = 0.5, n_iterations= 10\n",
        "\n",
        "#make predictions and calculate the accuracy\n",
        "print('accuracy  %.3f' % accuracy(Nnetwork, dataset))"
      ],
      "execution_count": 67,
      "outputs": [
        {
          "output_type": "stream",
          "name": "stdout",
          "text": [
            "n_iterations=0, sum_errors=63.968\n",
            "n_iterations=1, sum_errors=43.960\n",
            "n_iterations=2, sum_errors=43.708\n",
            "n_iterations=3, sum_errors=43.502\n",
            "n_iterations=4, sum_errors=43.237\n",
            "n_iterations=5, sum_errors=42.858\n",
            "n_iterations=6, sum_errors=42.294\n",
            "n_iterations=7, sum_errors=41.449\n",
            "n_iterations=8, sum_errors=40.228\n",
            "n_iterations=9, sum_errors=38.620\n",
            "accuracy  0.430\n"
          ]
        }
      ]
    },
    {
      "cell_type": "markdown",
      "metadata": {
        "id": "snWpfC-6p3KL"
      },
      "source": [
        "##### learning rate = 0.3"
      ]
    },
    {
      "cell_type": "code",
      "metadata": {
        "colab": {
          "base_uri": "https://localhost:8080/"
        },
        "id": "2r86aC_PovEH",
        "outputId": "8295fb5d-346f-4b62-d420-ffccf422ef0d"
      },
      "source": [
        "X = np.identity(8)\n",
        "# generate a dataset, by randomly choose 1 row from identity matrix of size 8  \n",
        "dataset = []\n",
        "for i in range(100):\n",
        "    row = np.random.choice(range(8))\n",
        "    dataset.append(X.tolist()[row])\n",
        "\n",
        "# initiate a neural network and train it \n",
        "np.random.seed(1)\n",
        "Nnetwork = initiate_NN(8, 3, 8)\n",
        "train_NN(Nnetwork, dataset, 0.3, 10, 8) # learning rate = 0.3, n_iterations= 10\n",
        "\n",
        "#make predictions and calculate the accuracy\n",
        "print('accuracy  %.3f' % accuracy(Nnetwork, dataset))"
      ],
      "execution_count": 68,
      "outputs": [
        {
          "output_type": "stream",
          "name": "stdout",
          "text": [
            "n_iterations=0, sum_errors=75.764\n",
            "n_iterations=1, sum_errors=44.295\n",
            "n_iterations=2, sum_errors=43.771\n",
            "n_iterations=3, sum_errors=43.613\n",
            "n_iterations=4, sum_errors=43.491\n",
            "n_iterations=5, sum_errors=43.363\n",
            "n_iterations=6, sum_errors=43.215\n",
            "n_iterations=7, sum_errors=43.034\n",
            "n_iterations=8, sum_errors=42.808\n",
            "n_iterations=9, sum_errors=42.520\n",
            "accuracy  0.290\n"
          ]
        }
      ]
    },
    {
      "cell_type": "markdown",
      "metadata": {
        "id": "8494J6JDqLJa"
      },
      "source": [
        "##### learning rate = 0.2"
      ]
    },
    {
      "cell_type": "code",
      "metadata": {
        "colab": {
          "base_uri": "https://localhost:8080/"
        },
        "id": "UTzV3sbap-1W",
        "outputId": "26da7615-cda8-4971-81db-44696e8d1542"
      },
      "source": [
        "X = np.identity(8)\n",
        "# generate a dataset, by randomly choose 1 row from identity matrix of size 8  \n",
        "dataset = []\n",
        "for i in range(100):\n",
        "    row = np.random.choice(range(8))\n",
        "    dataset.append(X.tolist()[row])\n",
        "\n",
        "# initiate a neural network and train it \n",
        "np.random.seed(1)\n",
        "Nnetwork = initiate_NN(8, 3, 8)\n",
        "train_NN(Nnetwork, dataset, 0.2, 10, 8) # learning rate = 2, n_iterations= 10\n",
        "\n",
        "#make predictions and calculate the accuracy\n",
        "print('accuracy  %.3f' % accuracy(Nnetwork, dataset))"
      ],
      "execution_count": 72,
      "outputs": [
        {
          "output_type": "stream",
          "name": "stdout",
          "text": [
            "n_iterations=0, sum_errors=89.712\n",
            "n_iterations=1, sum_errors=45.348\n",
            "n_iterations=2, sum_errors=43.980\n",
            "n_iterations=3, sum_errors=43.702\n",
            "n_iterations=4, sum_errors=43.578\n",
            "n_iterations=5, sum_errors=43.489\n",
            "n_iterations=6, sum_errors=43.407\n",
            "n_iterations=7, sum_errors=43.324\n",
            "n_iterations=8, sum_errors=43.233\n",
            "n_iterations=9, sum_errors=43.132\n",
            "accuracy  0.290\n"
          ]
        }
      ]
    },
    {
      "cell_type": "markdown",
      "metadata": {
        "id": "iVkyL1afqcB2"
      },
      "source": [
        "**observation**\n",
        "  * with fixed weights, smaller learning rate, slower convergence, it requires more iteration. "
      ]
    },
    {
      "cell_type": "code",
      "metadata": {
        "id": "TSnaU5qFqzZ5"
      },
      "source": [
        ""
      ],
      "execution_count": null,
      "outputs": []
    }
  ]
}